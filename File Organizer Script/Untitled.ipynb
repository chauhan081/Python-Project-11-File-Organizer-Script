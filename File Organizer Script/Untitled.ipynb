{
 "cells": [
  {
   "cell_type": "code",
   "execution_count": 4,
   "id": "62323475-6d1f-4de4-b254-d70763ff8923",
   "metadata": {},
   "source": [
    "import os\n",
    "import shutil\n",
    "\n",
    "def organize_folder(folder_path):\n",
    "    file_types = {\n",
    "        'Images': ['.jpg', '.jpeg', '.png', '.gif'],\n",
    "        'Documents': ['.pdf', '.docx', '.txt', '.xlsx'],\n",
    "        'Videos': ['.mp4', '.avi', '.mkv'],\n",
    "        'Audio': ['.mp3', '.wav'],\n",
    "        'Archives': ['.zip', '.rar'],\n",
    "        'Scripts': ['.py', '.js']\n",
    "    }\n",
    "\n",
    "    for filename in os.listdir(folder_path):\n",
    "        file_path = os.path.join(folder_path, filename)\n",
    "        if os.path.isfile(file_path):\n",
    "            _, ext = os.path.splitext(filename)\n",
    "            for folder, extensions in file_types.items():\n",
    "                if ext.lower() in extensions:\n",
    "                    target_folder = os.path.join(folder_path, folder)\n",
    "                    os.makedirs(target_folder, exist_ok=True)\n",
    "                    shutil.move(file_path, os.path.join(target_folder, filename))\n",
    "                break\n",
    "\n",
    "#Example usage\n",
    "organize_folder(\"/path/to/your/folder\")"
   ]
  },
  {
   "cell_type": "code",
   "execution_count": null,
   "id": "211de040-0f30-4e82-be46-34c8b05bf9bc",
   "metadata": {},
   "outputs": [],
   "source": []
  }
 ],
 "metadata": {
  "kernelspec": {
   "display_name": "Python 3 (ipykernel)",
   "language": "python",
   "name": "python3"
  },
  "language_info": {
   "codemirror_mode": {
    "name": "ipython",
    "version": 3
   },
   "file_extension": ".py",
   "mimetype": "text/x-python",
   "name": "python",
   "nbconvert_exporter": "python",
   "pygments_lexer": "ipython3",
   "version": "3.13.5"
  }
 },
 "nbformat": 4,
 "nbformat_minor": 5
}
